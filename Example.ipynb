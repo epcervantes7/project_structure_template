{
 "cells": [
  {
   "cell_type": "markdown",
   "id": "b54d2fb4",
   "metadata": {},
   "source": [
    "Important to recognize the src as source directory"
   ]
  },
  {
   "cell_type": "code",
   "execution_count": 1,
   "id": "34f8ecd8",
   "metadata": {
    "ExecuteTime": {
     "end_time": "2021-07-20T11:19:01.265986Z",
     "start_time": "2021-07-20T11:19:01.263291Z"
    }
   },
   "outputs": [],
   "source": [
    "import sys\n",
    "sys.path.append(\"..\")"
   ]
  },
  {
   "cell_type": "code",
   "execution_count": 2,
   "id": "efb0b560",
   "metadata": {
    "ExecuteTime": {
     "end_time": "2021-07-20T11:19:02.045462Z",
     "start_time": "2021-07-20T11:19:02.021690Z"
    }
   },
   "outputs": [
    {
     "name": "stdout",
     "output_type": "stream",
     "text": [
      "importing from example_utils, hello  Evelyn\n"
     ]
    }
   ],
   "source": [
    "#importing the print_hello_utils method from utils.py\n",
    "from src.example_utils import print_hello_utils\n",
    "print_hello_utils(\"Evelyn\")"
   ]
  },
  {
   "cell_type": "code",
   "execution_count": null,
   "id": "d98fe3fb",
   "metadata": {},
   "outputs": [],
   "source": []
  }
 ],
 "metadata": {
  "kernelspec": {
   "display_name": "Python 3",
   "language": "python",
   "name": "python3"
  },
  "language_info": {
   "codemirror_mode": {
    "name": "ipython",
    "version": 3
   },
   "file_extension": ".py",
   "mimetype": "text/x-python",
   "name": "python",
   "nbconvert_exporter": "python",
   "pygments_lexer": "ipython3",
   "version": "3.8.8"
  },
  "toc": {
   "base_numbering": 1,
   "nav_menu": {},
   "number_sections": true,
   "sideBar": true,
   "skip_h1_title": false,
   "title_cell": "Table of Contents",
   "title_sidebar": "Contents",
   "toc_cell": false,
   "toc_position": {},
   "toc_section_display": true,
   "toc_window_display": false
  },
  "varInspector": {
   "cols": {
    "lenName": 16,
    "lenType": 16,
    "lenVar": 40
   },
   "kernels_config": {
    "python": {
     "delete_cmd_postfix": "",
     "delete_cmd_prefix": "del ",
     "library": "var_list.py",
     "varRefreshCmd": "print(var_dic_list())"
    },
    "r": {
     "delete_cmd_postfix": ") ",
     "delete_cmd_prefix": "rm(",
     "library": "var_list.r",
     "varRefreshCmd": "cat(var_dic_list()) "
    }
   },
   "types_to_exclude": [
    "module",
    "function",
    "builtin_function_or_method",
    "instance",
    "_Feature"
   ],
   "window_display": false
  }
 },
 "nbformat": 4,
 "nbformat_minor": 5
}
